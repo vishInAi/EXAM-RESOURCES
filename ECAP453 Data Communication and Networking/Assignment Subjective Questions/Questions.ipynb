{
 "cells": [
  {
   "cell_type": "markdown",
   "metadata": {},
   "source": [
    "1. Ajay wants to design a network for an analog telephone network setup in his organization. But he is not able to decide the appropriate switching technique. Suggest him the appropriate switching technique to be used and why.  \n",
    "\n",
    "2. Explain all steps of Dijkstra Algorithm.  \n",
    "\n",
    "3. Aman wants to send data but he is concerned about issues like frame loss, duplication, and corruption of data. Suggest him all possible techniques that can solve these issues.  \n",
    "\n",
    "4. To route data from source to destination, Alice needs to use routing algorithms. Explain different types of routing algorithms along with their differences.  \n",
    "\n",
    "5. What are the various categories into which a network is classified?  \n",
    "\n",
    "6. Compare and contrast the working of different networking devices and also mention the criteria that should be taken into consideration while designing a network.  \n",
    "\n",
    "7. What are digital signatures? Explain how the concept of public key cryptography is used in digital signatures and also explain the role of a certification authority with the help of a suitable diagram.  \n",
    "\n",
    "8.  \n",
    "   a. Explain the different types of firewalls. Discuss the various steps to be followed while configuring a firewall.  \n",
    "   b. \"Firewalls are a potential way of securing a computer but they have many limitations.\" Do you agree with this statement? Give reasons to support your answer.  \n",
    "\n",
    "9. The Aloha protocol is a two-category random-access protocol. Explain all of the categories and their distinctions.  \n",
    "\n",
    "10. Alice is a school teacher. She wants to lay down a network so that her students can share information with one another. Suggest her a topology that will be best in terms of scalability and reliability."
   ]
  }
 ],
 "metadata": {
  "language_info": {
   "name": "python"
  }
 },
 "nbformat": 4,
 "nbformat_minor": 2
}
